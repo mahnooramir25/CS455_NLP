{
  "nbformat": 4,
  "nbformat_minor": 0,
  "metadata": {
    "colab": {
      "provenance": [],
      "gpuType": "T4"
    },
    "kernelspec": {
      "name": "python3",
      "display_name": "Python 3"
    },
    "language_info": {
      "name": "python"
    },
    "accelerator": "GPU"
  },
  "cells": [
    {
      "cell_type": "markdown",
      "source": [
        "Setup and Dependencies"
      ],
      "metadata": {
        "id": "NhxVO9VTs8gz"
      }
    },
    {
      "cell_type": "code",
      "source": [
        "pip install torch nltk scikit-learn"
      ],
      "metadata": {
        "colab": {
          "base_uri": "https://localhost:8080/"
        },
        "id": "B33qVDsynqK3",
        "outputId": "d6a84125-ef11-41af-e621-24869e3c1bae"
      },
      "execution_count": 2,
      "outputs": [
        {
          "output_type": "stream",
          "name": "stdout",
          "text": [
            "Requirement already satisfied: torch in /usr/local/lib/python3.11/dist-packages (2.6.0+cu124)\n",
            "Requirement already satisfied: nltk in /usr/local/lib/python3.11/dist-packages (3.9.1)\n",
            "Requirement already satisfied: scikit-learn in /usr/local/lib/python3.11/dist-packages (1.6.1)\n",
            "Requirement already satisfied: filelock in /usr/local/lib/python3.11/dist-packages (from torch) (3.18.0)\n",
            "Requirement already satisfied: typing-extensions>=4.10.0 in /usr/local/lib/python3.11/dist-packages (from torch) (4.13.2)\n",
            "Requirement already satisfied: networkx in /usr/local/lib/python3.11/dist-packages (from torch) (3.4.2)\n",
            "Requirement already satisfied: jinja2 in /usr/local/lib/python3.11/dist-packages (from torch) (3.1.6)\n",
            "Requirement already satisfied: fsspec in /usr/local/lib/python3.11/dist-packages (from torch) (2025.3.2)\n",
            "Collecting nvidia-cuda-nvrtc-cu12==12.4.127 (from torch)\n",
            "  Downloading nvidia_cuda_nvrtc_cu12-12.4.127-py3-none-manylinux2014_x86_64.whl.metadata (1.5 kB)\n",
            "Collecting nvidia-cuda-runtime-cu12==12.4.127 (from torch)\n",
            "  Downloading nvidia_cuda_runtime_cu12-12.4.127-py3-none-manylinux2014_x86_64.whl.metadata (1.5 kB)\n",
            "Collecting nvidia-cuda-cupti-cu12==12.4.127 (from torch)\n",
            "  Downloading nvidia_cuda_cupti_cu12-12.4.127-py3-none-manylinux2014_x86_64.whl.metadata (1.6 kB)\n",
            "Collecting nvidia-cudnn-cu12==9.1.0.70 (from torch)\n",
            "  Downloading nvidia_cudnn_cu12-9.1.0.70-py3-none-manylinux2014_x86_64.whl.metadata (1.6 kB)\n",
            "Collecting nvidia-cublas-cu12==12.4.5.8 (from torch)\n",
            "  Downloading nvidia_cublas_cu12-12.4.5.8-py3-none-manylinux2014_x86_64.whl.metadata (1.5 kB)\n",
            "Collecting nvidia-cufft-cu12==11.2.1.3 (from torch)\n",
            "  Downloading nvidia_cufft_cu12-11.2.1.3-py3-none-manylinux2014_x86_64.whl.metadata (1.5 kB)\n",
            "Collecting nvidia-curand-cu12==10.3.5.147 (from torch)\n",
            "  Downloading nvidia_curand_cu12-10.3.5.147-py3-none-manylinux2014_x86_64.whl.metadata (1.5 kB)\n",
            "Collecting nvidia-cusolver-cu12==11.6.1.9 (from torch)\n",
            "  Downloading nvidia_cusolver_cu12-11.6.1.9-py3-none-manylinux2014_x86_64.whl.metadata (1.6 kB)\n",
            "Collecting nvidia-cusparse-cu12==12.3.1.170 (from torch)\n",
            "  Downloading nvidia_cusparse_cu12-12.3.1.170-py3-none-manylinux2014_x86_64.whl.metadata (1.6 kB)\n",
            "Requirement already satisfied: nvidia-cusparselt-cu12==0.6.2 in /usr/local/lib/python3.11/dist-packages (from torch) (0.6.2)\n",
            "Requirement already satisfied: nvidia-nccl-cu12==2.21.5 in /usr/local/lib/python3.11/dist-packages (from torch) (2.21.5)\n",
            "Requirement already satisfied: nvidia-nvtx-cu12==12.4.127 in /usr/local/lib/python3.11/dist-packages (from torch) (12.4.127)\n",
            "Collecting nvidia-nvjitlink-cu12==12.4.127 (from torch)\n",
            "  Downloading nvidia_nvjitlink_cu12-12.4.127-py3-none-manylinux2014_x86_64.whl.metadata (1.5 kB)\n",
            "Requirement already satisfied: triton==3.2.0 in /usr/local/lib/python3.11/dist-packages (from torch) (3.2.0)\n",
            "Requirement already satisfied: sympy==1.13.1 in /usr/local/lib/python3.11/dist-packages (from torch) (1.13.1)\n",
            "Requirement already satisfied: mpmath<1.4,>=1.1.0 in /usr/local/lib/python3.11/dist-packages (from sympy==1.13.1->torch) (1.3.0)\n",
            "Requirement already satisfied: click in /usr/local/lib/python3.11/dist-packages (from nltk) (8.2.0)\n",
            "Requirement already satisfied: joblib in /usr/local/lib/python3.11/dist-packages (from nltk) (1.5.0)\n",
            "Requirement already satisfied: regex>=2021.8.3 in /usr/local/lib/python3.11/dist-packages (from nltk) (2024.11.6)\n",
            "Requirement already satisfied: tqdm in /usr/local/lib/python3.11/dist-packages (from nltk) (4.67.1)\n",
            "Requirement already satisfied: numpy>=1.19.5 in /usr/local/lib/python3.11/dist-packages (from scikit-learn) (2.0.2)\n",
            "Requirement already satisfied: scipy>=1.6.0 in /usr/local/lib/python3.11/dist-packages (from scikit-learn) (1.15.3)\n",
            "Requirement already satisfied: threadpoolctl>=3.1.0 in /usr/local/lib/python3.11/dist-packages (from scikit-learn) (3.6.0)\n",
            "Requirement already satisfied: MarkupSafe>=2.0 in /usr/local/lib/python3.11/dist-packages (from jinja2->torch) (3.0.2)\n",
            "Downloading nvidia_cublas_cu12-12.4.5.8-py3-none-manylinux2014_x86_64.whl (363.4 MB)\n",
            "\u001b[2K   \u001b[90m━━━━━━━━━━━━━━━━━━━━━━━━━━━━━━━━━━━━━━━━\u001b[0m \u001b[32m363.4/363.4 MB\u001b[0m \u001b[31m4.2 MB/s\u001b[0m eta \u001b[36m0:00:00\u001b[0m\n",
            "\u001b[?25hDownloading nvidia_cuda_cupti_cu12-12.4.127-py3-none-manylinux2014_x86_64.whl (13.8 MB)\n",
            "\u001b[2K   \u001b[90m━━━━━━━━━━━━━━━━━━━━━━━━━━━━━━━━━━━━━━━━\u001b[0m \u001b[32m13.8/13.8 MB\u001b[0m \u001b[31m97.6 MB/s\u001b[0m eta \u001b[36m0:00:00\u001b[0m\n",
            "\u001b[?25hDownloading nvidia_cuda_nvrtc_cu12-12.4.127-py3-none-manylinux2014_x86_64.whl (24.6 MB)\n",
            "\u001b[2K   \u001b[90m━━━━━━━━━━━━━━━━━━━━━━━━━━━━━━━━━━━━━━━━\u001b[0m \u001b[32m24.6/24.6 MB\u001b[0m \u001b[31m75.0 MB/s\u001b[0m eta \u001b[36m0:00:00\u001b[0m\n",
            "\u001b[?25hDownloading nvidia_cuda_runtime_cu12-12.4.127-py3-none-manylinux2014_x86_64.whl (883 kB)\n",
            "\u001b[2K   \u001b[90m━━━━━━━━━━━━━━━━━━━━━━━━━━━━━━━━━━━━━━━━\u001b[0m \u001b[32m883.7/883.7 kB\u001b[0m \u001b[31m35.9 MB/s\u001b[0m eta \u001b[36m0:00:00\u001b[0m\n",
            "\u001b[?25hDownloading nvidia_cudnn_cu12-9.1.0.70-py3-none-manylinux2014_x86_64.whl (664.8 MB)\n",
            "\u001b[2K   \u001b[90m━━━━━━━━━━━━━━━━━━━━━━━━━━━━━━━━━━━━━━━━\u001b[0m \u001b[32m664.8/664.8 MB\u001b[0m \u001b[31m2.7 MB/s\u001b[0m eta \u001b[36m0:00:00\u001b[0m\n",
            "\u001b[?25hDownloading nvidia_cufft_cu12-11.2.1.3-py3-none-manylinux2014_x86_64.whl (211.5 MB)\n",
            "\u001b[2K   \u001b[90m━━━━━━━━━━━━━━━━━━━━━━━━━━━━━━━━━━━━━━━━\u001b[0m \u001b[32m211.5/211.5 MB\u001b[0m \u001b[31m5.6 MB/s\u001b[0m eta \u001b[36m0:00:00\u001b[0m\n",
            "\u001b[?25hDownloading nvidia_curand_cu12-10.3.5.147-py3-none-manylinux2014_x86_64.whl (56.3 MB)\n",
            "\u001b[2K   \u001b[90m━━━━━━━━━━━━━━━━━━━━━━━━━━━━━━━━━━━━━━━━\u001b[0m \u001b[32m56.3/56.3 MB\u001b[0m \u001b[31m12.5 MB/s\u001b[0m eta \u001b[36m0:00:00\u001b[0m\n",
            "\u001b[?25hDownloading nvidia_cusolver_cu12-11.6.1.9-py3-none-manylinux2014_x86_64.whl (127.9 MB)\n",
            "\u001b[2K   \u001b[90m━━━━━━━━━━━━━━━━━━━━━━━━━━━━━━━━━━━━━━━━\u001b[0m \u001b[32m127.9/127.9 MB\u001b[0m \u001b[31m7.1 MB/s\u001b[0m eta \u001b[36m0:00:00\u001b[0m\n",
            "\u001b[?25hDownloading nvidia_cusparse_cu12-12.3.1.170-py3-none-manylinux2014_x86_64.whl (207.5 MB)\n",
            "\u001b[2K   \u001b[90m━━━━━━━━━━━━━━━━━━━━━━━━━━━━━━━━━━━━━━━━\u001b[0m \u001b[32m207.5/207.5 MB\u001b[0m \u001b[31m6.1 MB/s\u001b[0m eta \u001b[36m0:00:00\u001b[0m\n",
            "\u001b[?25hDownloading nvidia_nvjitlink_cu12-12.4.127-py3-none-manylinux2014_x86_64.whl (21.1 MB)\n",
            "\u001b[2K   \u001b[90m━━━━━━━━━━━━━━━━━━━━━━━━━━━━━━━━━━━━━━━━\u001b[0m \u001b[32m21.1/21.1 MB\u001b[0m \u001b[31m84.8 MB/s\u001b[0m eta \u001b[36m0:00:00\u001b[0m\n",
            "\u001b[?25hInstalling collected packages: nvidia-nvjitlink-cu12, nvidia-curand-cu12, nvidia-cufft-cu12, nvidia-cuda-runtime-cu12, nvidia-cuda-nvrtc-cu12, nvidia-cuda-cupti-cu12, nvidia-cublas-cu12, nvidia-cusparse-cu12, nvidia-cudnn-cu12, nvidia-cusolver-cu12\n",
            "  Attempting uninstall: nvidia-nvjitlink-cu12\n",
            "    Found existing installation: nvidia-nvjitlink-cu12 12.5.82\n",
            "    Uninstalling nvidia-nvjitlink-cu12-12.5.82:\n",
            "      Successfully uninstalled nvidia-nvjitlink-cu12-12.5.82\n",
            "  Attempting uninstall: nvidia-curand-cu12\n",
            "    Found existing installation: nvidia-curand-cu12 10.3.6.82\n",
            "    Uninstalling nvidia-curand-cu12-10.3.6.82:\n",
            "      Successfully uninstalled nvidia-curand-cu12-10.3.6.82\n",
            "  Attempting uninstall: nvidia-cufft-cu12\n",
            "    Found existing installation: nvidia-cufft-cu12 11.2.3.61\n",
            "    Uninstalling nvidia-cufft-cu12-11.2.3.61:\n",
            "      Successfully uninstalled nvidia-cufft-cu12-11.2.3.61\n",
            "  Attempting uninstall: nvidia-cuda-runtime-cu12\n",
            "    Found existing installation: nvidia-cuda-runtime-cu12 12.5.82\n",
            "    Uninstalling nvidia-cuda-runtime-cu12-12.5.82:\n",
            "      Successfully uninstalled nvidia-cuda-runtime-cu12-12.5.82\n",
            "  Attempting uninstall: nvidia-cuda-nvrtc-cu12\n",
            "    Found existing installation: nvidia-cuda-nvrtc-cu12 12.5.82\n",
            "    Uninstalling nvidia-cuda-nvrtc-cu12-12.5.82:\n",
            "      Successfully uninstalled nvidia-cuda-nvrtc-cu12-12.5.82\n",
            "  Attempting uninstall: nvidia-cuda-cupti-cu12\n",
            "    Found existing installation: nvidia-cuda-cupti-cu12 12.5.82\n",
            "    Uninstalling nvidia-cuda-cupti-cu12-12.5.82:\n",
            "      Successfully uninstalled nvidia-cuda-cupti-cu12-12.5.82\n",
            "  Attempting uninstall: nvidia-cublas-cu12\n",
            "    Found existing installation: nvidia-cublas-cu12 12.5.3.2\n",
            "    Uninstalling nvidia-cublas-cu12-12.5.3.2:\n",
            "      Successfully uninstalled nvidia-cublas-cu12-12.5.3.2\n",
            "  Attempting uninstall: nvidia-cusparse-cu12\n",
            "    Found existing installation: nvidia-cusparse-cu12 12.5.1.3\n",
            "    Uninstalling nvidia-cusparse-cu12-12.5.1.3:\n",
            "      Successfully uninstalled nvidia-cusparse-cu12-12.5.1.3\n",
            "  Attempting uninstall: nvidia-cudnn-cu12\n",
            "    Found existing installation: nvidia-cudnn-cu12 9.3.0.75\n",
            "    Uninstalling nvidia-cudnn-cu12-9.3.0.75:\n",
            "      Successfully uninstalled nvidia-cudnn-cu12-9.3.0.75\n",
            "  Attempting uninstall: nvidia-cusolver-cu12\n",
            "    Found existing installation: nvidia-cusolver-cu12 11.6.3.83\n",
            "    Uninstalling nvidia-cusolver-cu12-11.6.3.83:\n",
            "      Successfully uninstalled nvidia-cusolver-cu12-11.6.3.83\n",
            "Successfully installed nvidia-cublas-cu12-12.4.5.8 nvidia-cuda-cupti-cu12-12.4.127 nvidia-cuda-nvrtc-cu12-12.4.127 nvidia-cuda-runtime-cu12-12.4.127 nvidia-cudnn-cu12-9.1.0.70 nvidia-cufft-cu12-11.2.1.3 nvidia-curand-cu12-10.3.5.147 nvidia-cusolver-cu12-11.6.1.9 nvidia-cusparse-cu12-12.3.1.170 nvidia-nvjitlink-cu12-12.4.127\n"
          ]
        }
      ]
    },
    {
      "cell_type": "code",
      "source": [
        "!pip install linformer"
      ],
      "metadata": {
        "colab": {
          "base_uri": "https://localhost:8080/"
        },
        "id": "d9VBjwZeAZCU",
        "outputId": "daf9ba4e-28d3-48a5-e81b-13b8efd78e94"
      },
      "execution_count": 3,
      "outputs": [
        {
          "output_type": "stream",
          "name": "stdout",
          "text": [
            "Collecting linformer\n",
            "  Downloading linformer-0.2.3-py3-none-any.whl.metadata (602 bytes)\n",
            "Requirement already satisfied: torch in /usr/local/lib/python3.11/dist-packages (from linformer) (2.6.0+cu124)\n",
            "Requirement already satisfied: filelock in /usr/local/lib/python3.11/dist-packages (from torch->linformer) (3.18.0)\n",
            "Requirement already satisfied: typing-extensions>=4.10.0 in /usr/local/lib/python3.11/dist-packages (from torch->linformer) (4.13.2)\n",
            "Requirement already satisfied: networkx in /usr/local/lib/python3.11/dist-packages (from torch->linformer) (3.4.2)\n",
            "Requirement already satisfied: jinja2 in /usr/local/lib/python3.11/dist-packages (from torch->linformer) (3.1.6)\n",
            "Requirement already satisfied: fsspec in /usr/local/lib/python3.11/dist-packages (from torch->linformer) (2025.3.2)\n",
            "Requirement already satisfied: nvidia-cuda-nvrtc-cu12==12.4.127 in /usr/local/lib/python3.11/dist-packages (from torch->linformer) (12.4.127)\n",
            "Requirement already satisfied: nvidia-cuda-runtime-cu12==12.4.127 in /usr/local/lib/python3.11/dist-packages (from torch->linformer) (12.4.127)\n",
            "Requirement already satisfied: nvidia-cuda-cupti-cu12==12.4.127 in /usr/local/lib/python3.11/dist-packages (from torch->linformer) (12.4.127)\n",
            "Requirement already satisfied: nvidia-cudnn-cu12==9.1.0.70 in /usr/local/lib/python3.11/dist-packages (from torch->linformer) (9.1.0.70)\n",
            "Requirement already satisfied: nvidia-cublas-cu12==12.4.5.8 in /usr/local/lib/python3.11/dist-packages (from torch->linformer) (12.4.5.8)\n",
            "Requirement already satisfied: nvidia-cufft-cu12==11.2.1.3 in /usr/local/lib/python3.11/dist-packages (from torch->linformer) (11.2.1.3)\n",
            "Requirement already satisfied: nvidia-curand-cu12==10.3.5.147 in /usr/local/lib/python3.11/dist-packages (from torch->linformer) (10.3.5.147)\n",
            "Requirement already satisfied: nvidia-cusolver-cu12==11.6.1.9 in /usr/local/lib/python3.11/dist-packages (from torch->linformer) (11.6.1.9)\n",
            "Requirement already satisfied: nvidia-cusparse-cu12==12.3.1.170 in /usr/local/lib/python3.11/dist-packages (from torch->linformer) (12.3.1.170)\n",
            "Requirement already satisfied: nvidia-cusparselt-cu12==0.6.2 in /usr/local/lib/python3.11/dist-packages (from torch->linformer) (0.6.2)\n",
            "Requirement already satisfied: nvidia-nccl-cu12==2.21.5 in /usr/local/lib/python3.11/dist-packages (from torch->linformer) (2.21.5)\n",
            "Requirement already satisfied: nvidia-nvtx-cu12==12.4.127 in /usr/local/lib/python3.11/dist-packages (from torch->linformer) (12.4.127)\n",
            "Requirement already satisfied: nvidia-nvjitlink-cu12==12.4.127 in /usr/local/lib/python3.11/dist-packages (from torch->linformer) (12.4.127)\n",
            "Requirement already satisfied: triton==3.2.0 in /usr/local/lib/python3.11/dist-packages (from torch->linformer) (3.2.0)\n",
            "Requirement already satisfied: sympy==1.13.1 in /usr/local/lib/python3.11/dist-packages (from torch->linformer) (1.13.1)\n",
            "Requirement already satisfied: mpmath<1.4,>=1.1.0 in /usr/local/lib/python3.11/dist-packages (from sympy==1.13.1->torch->linformer) (1.3.0)\n",
            "Requirement already satisfied: MarkupSafe>=2.0 in /usr/local/lib/python3.11/dist-packages (from jinja2->torch->linformer) (3.0.2)\n",
            "Downloading linformer-0.2.3-py3-none-any.whl (6.2 kB)\n",
            "Installing collected packages: linformer\n",
            "Successfully installed linformer-0.2.3\n"
          ]
        }
      ]
    },
    {
      "cell_type": "markdown",
      "source": [
        "Transformer Seq2Seq Code (Single Notebook Script)"
      ],
      "metadata": {
        "id": "UCZLIEP4nuje"
      }
    },
    {
      "cell_type": "markdown",
      "source": [
        "1. Data Preparation:\n",
        "- We define a small Urdu-English dataset.\n",
        "- Each sentence pair is a translation of the other.\n",
        "2. Vocabulary Building:\n",
        "- We manually assign indices to words.\n",
        "- <pad>: padding, <sos>: start of sentence, <eos>: end of sentence, <unk>: unknown token."
      ],
      "metadata": {
        "id": "ER0lmi962BI_"
      }
    },
    {
      "cell_type": "code",
      "source": [
        "import torch\n",
        "import torch.nn as nn\n",
        "import torch.nn.functional as F\n",
        "import math\n",
        "import random\n",
        "import nltk\n",
        "from nltk.translate.bleu_score import sentence_bleu\n",
        "from nltk.translate.meteor_score import meteor_score\n",
        "from sklearn.model_selection import train_test_split\n",
        "\n",
        "nltk.download('wordnet')\n",
        "\n",
        "# Dummy Urdu-English Dataset\n",
        "data_pairs = [\n",
        "    (\"میں سکول جا رہا ہوں\", \"I am going to school\"),\n",
        "    (\"وہ ایک ڈاکٹر ہے\", \"He is a doctor\"),\n",
        "    (\"یہ ایک خوبصورت دن ہے\", \"It is a beautiful day\"),\n",
        "    (\"کتاب میز پر ہے\", \"The book is on the table\"),\n",
        "    (\"کیا آپ ٹھیک ہیں؟\", \"Are you okay?\"),\n",
        "    (\"مجھے پانی پینا ہے\", \"I need to drink water\"),\n",
        "    (\"ہم کل بازار جائیں گے\", \"We will go to the market tomorrow\"),\n",
        "    (\"تم کہاں رہتے ہو؟\", \"Where do you live?\"),\n",
        "    (\"میرا نام ماہ نور ہے\", \"My name is Mahnoor\"),\n",
        "    (\"آپ کا شکریہ\", \"Thank you\"),\n",
        "    (\"دروازہ بند کر دو\", \"Close the door\"),\n",
        "    (\"مجھے مدد کی ضرورت ہے\", \"I need help\"),\n",
        "    (\"کیا تم نے کھانا کھایا؟\", \"Did you eat food?\"),\n",
        "    (\"میں نے فلم دیکھی\", \"I watched a movie\"),\n",
        "    (\"باہر بارش ہو رہی ہے\", \"It is raining outside\"),\n",
        "    (\"میں تھک گیا ہوں\", \"I am tired\"),\n",
        "    (\"وہ بہت ذہین ہے\", \"She is very intelligent\"),\n",
        "    (\"ہم سب دوست ہیں\", \"We are all friends\"),\n",
        "    (\"تمہاری شال بہت خوبصورت ہے\", \"Your shawl is very beautiful\"),\n",
        "    (\"میرے پاس ایک کتا ہے\", \"I have a dog\")\n",
        "]\n",
        "\n",
        "# Tokenization & Vocab\n",
        "def tokenize(sentence):\n",
        "    return sentence.lower().split()\n",
        "\n",
        "def build_vocab(sentences):\n",
        "    vocab = {\"<pad>\": 0, \"<sos>\": 1, \"<eos>\": 2, \"<unk>\": 3}\n",
        "    for sentence in sentences:\n",
        "        for word in tokenize(sentence):\n",
        "            if word not in vocab:\n",
        "                vocab[word] = len(vocab)\n",
        "    return vocab\n",
        "\n",
        "ur_sentences = [x[0] for x in data_pairs]\n",
        "en_sentences = [x[1] for x in data_pairs]\n",
        "\n",
        "ur_vocab = build_vocab(ur_sentences)\n",
        "en_vocab = build_vocab(en_sentences)\n",
        "inv_ur_vocab = {v: k for k, v in ur_vocab.items()}\n",
        "inv_en_vocab = {v: k for k, v in en_vocab.items()}\n"
      ],
      "metadata": {
        "colab": {
          "base_uri": "https://localhost:8080/"
        },
        "id": "MASSW7jnnt-j",
        "outputId": "01e2fa68-c5e2-4fdc-d457-dbd101475c2e"
      },
      "execution_count": 4,
      "outputs": [
        {
          "output_type": "stream",
          "name": "stderr",
          "text": [
            "[nltk_data] Downloading package wordnet to /root/nltk_data...\n"
          ]
        }
      ]
    },
    {
      "cell_type": "markdown",
      "source": [
        "3. Encoding Sentences to Tensors\n",
        "- This function converts a sentence into a fixed-length vector of word indices.\n",
        "- All sentences are padded to max_len.\n",
        "4. Positional Encoding\n",
        "- Since transformers don’t use recurrence (like RNNs), we inject position information using sine/cosine patterns.\n",
        "-Added to word embeddings.\n",
        "5. Transformer Seq2Seq Model\n",
        "- We create a standard encoder-decoder transformer using PyTorch’s built-in module.\n",
        "- src and tgt inputs are passed with positional encodings.\n",
        "- The output is passed through a linear layer to predict the next token.\n",
        "\n",
        "Attention Mechanism\n",
        "The transformer:\n",
        "\n",
        "- Computes self-attention in encoder and decoder to find word relationships in each sentence.\n",
        "- Computes cross-attention in the decoder to relate target words with source words."
      ],
      "metadata": {
        "id": "-e9JGLv42who"
      }
    },
    {
      "cell_type": "code",
      "source": [
        "# Convert to tensor\n",
        "def encode(sentence, vocab, max_len=10):\n",
        "    tokens = [vocab.get(w, vocab[\"<unk>\"]) for w in tokenize(sentence)]\n",
        "    tokens = [vocab[\"<sos>\"]] + tokens + [vocab[\"<eos>\"]]\n",
        "    tokens += [vocab[\"<pad>\"]] * (max_len - len(tokens))\n",
        "    return torch.tensor(tokens[:max_len])\n",
        "\n",
        "src_data = [encode(p[0], ur_vocab) for p in data_pairs]\n",
        "tgt_data = [encode(p[1], en_vocab) for p in data_pairs]\n",
        "\n",
        "# Positional Encoding\n",
        "class PositionalEncoding(nn.Module):\n",
        "    def __init__(self, d_model, max_len=100):\n",
        "        super().__init__()\n",
        "        pe = torch.zeros(max_len, d_model)\n",
        "        pos = torch.arange(0, max_len).unsqueeze(1)\n",
        "        div_term = torch.exp(torch.arange(0, d_model, 2) * -(math.log(10000.0) / d_model))\n",
        "        pe[:, 0::2] = torch.sin(pos * div_term)\n",
        "        pe[:, 1::2] = torch.cos(pos * div_term)\n",
        "        self.pe = pe.unsqueeze(0)\n",
        "\n",
        "    def forward(self, x):\n",
        "        return x + self.pe[:, :x.size(1)].to(x.device)\n"
      ],
      "metadata": {
        "id": "0HHRowmj2rt5"
      },
      "execution_count": 5,
      "outputs": []
    },
    {
      "cell_type": "code",
      "source": [
        "# Transformer-based Seq2Seq\n",
        "class TransformerTranslator(nn.Module):\n",
        "    def __init__(self, src_vocab_size, tgt_vocab_size, d_model=128, nhead=4, num_layers=2):\n",
        "        super().__init__()\n",
        "        self.src_emb = nn.Embedding(src_vocab_size, d_model)\n",
        "        self.tgt_emb = nn.Embedding(tgt_vocab_size, d_model)\n",
        "        self.pos_enc = PositionalEncoding(d_model)\n",
        "        self.transformer = nn.Transformer(d_model, nhead, num_layers, num_layers)\n",
        "        self.fc_out = nn.Linear(d_model, tgt_vocab_size)\n",
        "        self.d_model = d_model\n",
        "\n",
        "    def forward(self, src, tgt):\n",
        "        src = self.pos_enc(self.src_emb(src) * math.sqrt(self.d_model))\n",
        "        tgt = self.pos_enc(self.tgt_emb(tgt) * math.sqrt(self.d_model))\n",
        "        src_mask = self.transformer.generate_square_subsequent_mask(src.size(1)).to(src.device)\n",
        "        tgt_mask = self.transformer.generate_square_subsequent_mask(tgt.size(1)).to(src.device)\n",
        "        out = self.transformer(src.transpose(0, 1), tgt.transpose(0, 1), src_mask=src_mask, tgt_mask=tgt_mask)\n",
        "        return self.fc_out(out.transpose(0, 1))\n"
      ],
      "metadata": {
        "id": "6-a_VEd6A-Y8"
      },
      "execution_count": 6,
      "outputs": []
    },
    {
      "cell_type": "markdown",
      "source": [
        "6. Training Loop\n",
        "- For each pair:\n",
        "-- Input: Urdu sentence\n",
        "-- Output: English sentence (shifted for decoder input vs target)\n",
        "\n",
        "- We use CrossEntropyLoss (ignoring <pad>) to train the network to predict the next token.\n",
        "- Optimizer: Adam\n",
        "7. Translation Function\n",
        "-Start with <sos>, and use the model to generate one token at a time.\n",
        "\n",
        "-Each output is fed back into the model (greedy decoding)."
      ],
      "metadata": {
        "id": "09hvU93z4ciP"
      }
    },
    {
      "cell_type": "code",
      "source": [
        "# Training Loop\n",
        "def train_model(model, src_data, tgt_data, vocab, epochs=50):\n",
        "    optimizer = torch.optim.Adam(model.parameters(), lr=0.001)\n",
        "    criterion = nn.CrossEntropyLoss(ignore_index=vocab[\"<pad>\"])\n",
        "\n",
        "    for epoch in range(epochs):\n",
        "        model.train()\n",
        "        total_loss = 0\n",
        "        for src, tgt in zip(src_data, tgt_data):\n",
        "            tgt_input = tgt[:-1].unsqueeze(0)\n",
        "            tgt_output = tgt[1:].unsqueeze(0)\n",
        "\n",
        "            output = model(src.unsqueeze(0), tgt_input)\n",
        "            output = output.view(-1, output.shape[-1])\n",
        "            tgt_output = tgt_output.view(-1)\n",
        "\n",
        "            loss = criterion(output, tgt_output)\n",
        "            loss.backward()\n",
        "            optimizer.step()\n",
        "            optimizer.zero_grad()\n",
        "            total_loss += loss.item()\n",
        "\n",
        "        if epoch % 20 == 0:\n",
        "            print(f\"Epoch {epoch} Loss: {total_loss:.4f}\")\n",
        "\n",
        "# Decoding\n",
        "def translate(model, sentence, src_vocab, tgt_vocab, inv_tgt_vocab, max_len=10):\n",
        "    model.eval()\n",
        "    src_tensor = encode(sentence, src_vocab, max_len).unsqueeze(0)\n",
        "    tgt_tensor = torch.tensor([[tgt_vocab[\"<sos>\"]]], dtype=torch.long)\n",
        "\n",
        "    for _ in range(max_len):\n",
        "        out = model(src_tensor, tgt_tensor)\n",
        "        next_token = out[0, -1].argmax().item()\n",
        "        tgt_tensor = torch.cat([tgt_tensor, torch.tensor([[next_token]])], dim=1)\n",
        "        if next_token == tgt_vocab[\"<eos>\"]:\n",
        "            break\n",
        "\n",
        "    words = [inv_tgt_vocab.get(tok.item(), \"\") for tok in tgt_tensor[0][1:] if tok.item() != tgt_vocab[\"<eos>\"]]\n",
        "    return \" \".join(words)\n",
        "\n"
      ],
      "metadata": {
        "id": "txXdzD0K4bGg"
      },
      "execution_count": 7,
      "outputs": []
    },
    {
      "cell_type": "markdown",
      "source": [
        "8. Evaluation Metrics\n",
        "- BLEU Score: Measures n-gram precision against reference.\n",
        "- METEOR Score: Also considers synonyms and stem matches (more suitable for low-resource languages).\n",
        "- Both are calculated for generated vs reference sentences.\n",
        "\n"
      ],
      "metadata": {
        "id": "MeHVIO5C576t"
      }
    },
    {
      "cell_type": "code",
      "source": [
        "# Metrics\n",
        "def evaluate_model(model, test_pairs):\n",
        "    bleu_total, meteor_total = 0, 0\n",
        "    for ur, en in test_pairs:\n",
        "        pred = translate(model, ur, ur_vocab, en_vocab, inv_en_vocab)\n",
        "        ref = tokenize(en)\n",
        "        hyp = tokenize(pred)\n",
        "        bleu = sentence_bleu([ref], hyp)\n",
        "        meteor = meteor_score([ref], hyp)\n",
        "        print(f\"\\nUrdu: {ur}\\nExpected: {en}\\nPredicted: {pred}\\nBLEU: {bleu:.2f}, METEOR: {meteor:.2f}\")\n",
        "        bleu_total += bleu\n",
        "        meteor_total += meteor\n",
        "    print(f\"\\nAverage BLEU: {bleu_total/len(test_pairs):.2f}, Average METEOR: {meteor_total/len(test_pairs):.2f}\")\n",
        "\n",
        "# Initialize model\n",
        "model_ur_en = TransformerTranslator(len(ur_vocab), len(en_vocab))\n",
        "train_model(model_ur_en, src_data, tgt_data, en_vocab)\n",
        "\n",
        "# Evaluate\n",
        "evaluate_model(model_ur_en, data_pairs)\n",
        "\n",
        "# Test Urdu → English\n",
        "print(\"\\nTest Urdu → English:\")\n",
        "for s in [\"آپ کا شکریہ\", \"میں اسکول جا رہا ہوں\"]:\n",
        "    print(f\"{s} => {translate(model_ur_en, s, ur_vocab, en_vocab, inv_en_vocab)}\")\n",
        "\n",
        "# Optional: English to Urdu (reverse training)\n",
        "en_src = [encode(p[1], en_vocab) for p in data_pairs]\n",
        "ur_tgt = [encode(p[0], ur_vocab) for p in data_pairs]\n",
        "model_en_ur = TransformerTranslator(len(en_vocab), len(ur_vocab))\n",
        "train_model(model_en_ur, en_src, ur_tgt, ur_vocab)\n",
        "\n",
        "print(\"\\nTest English → Urdu:\")\n",
        "for s in [\"Thank you\", \"How are you\"]:\n",
        "    print(f\"{s} => {translate(model_en_ur, s, en_vocab, ur_vocab, inv_ur_vocab)}\")\n"
      ],
      "metadata": {
        "colab": {
          "base_uri": "https://localhost:8080/"
        },
        "id": "tX7bd19J55_u",
        "outputId": "f5265403-d326-4229-f000-c7e3853f9a92"
      },
      "execution_count": 8,
      "outputs": [
        {
          "output_type": "stream",
          "name": "stderr",
          "text": [
            "/usr/local/lib/python3.11/dist-packages/torch/nn/modules/transformer.py:385: UserWarning: enable_nested_tensor is True, but self.use_nested_tensor is False because encoder_layer.self_attn.batch_first was not True(use batch_first for better inference performance)\n",
            "  warnings.warn(\n"
          ]
        },
        {
          "output_type": "stream",
          "name": "stdout",
          "text": [
            "Epoch 0 Loss: 81.0250\n",
            "Epoch 20 Loss: 14.9595\n",
            "Epoch 40 Loss: 8.4352\n"
          ]
        },
        {
          "output_type": "stream",
          "name": "stderr",
          "text": [
            "/usr/local/lib/python3.11/dist-packages/nltk/translate/bleu_score.py:577: UserWarning: \n",
            "The hypothesis contains 0 counts of 3-gram overlaps.\n",
            "Therefore the BLEU score evaluates to 0, independently of\n",
            "how many N-gram overlaps of lower order it contains.\n",
            "Consider using lower n-gram order or use SmoothingFunction()\n",
            "  warnings.warn(_msg)\n",
            "/usr/local/lib/python3.11/dist-packages/nltk/translate/bleu_score.py:577: UserWarning: \n",
            "The hypothesis contains 0 counts of 4-gram overlaps.\n",
            "Therefore the BLEU score evaluates to 0, independently of\n",
            "how many N-gram overlaps of lower order it contains.\n",
            "Consider using lower n-gram order or use SmoothingFunction()\n",
            "  warnings.warn(_msg)\n"
          ]
        },
        {
          "output_type": "stream",
          "name": "stdout",
          "text": [
            "\n",
            "Urdu: میں سکول جا رہا ہوں\n",
            "Expected: I am going to school\n",
            "Predicted: i am tired\n",
            "BLEU: 0.00, METEOR: 0.39\n",
            "\n",
            "Urdu: وہ ایک ڈاکٹر ہے\n",
            "Expected: He is a doctor\n",
            "Predicted: we are all friends\n",
            "BLEU: 0.00, METEOR: 0.00\n",
            "\n",
            "Urdu: یہ ایک خوبصورت دن ہے\n",
            "Expected: It is a beautiful day\n",
            "Predicted: where do you live?\n",
            "BLEU: 0.00, METEOR: 0.00\n",
            "\n",
            "Urdu: کتاب میز پر ہے\n",
            "Expected: The book is on the table\n",
            "Predicted: i am tired\n",
            "BLEU: 0.00, METEOR: 0.00\n",
            "\n",
            "Urdu: کیا آپ ٹھیک ہیں؟\n",
            "Expected: Are you okay?\n",
            "Predicted: thank you\n",
            "BLEU: 0.00, METEOR: 0.17\n",
            "\n",
            "Urdu: مجھے پانی پینا ہے\n",
            "Expected: I need to drink water\n",
            "Predicted: i need help\n",
            "BLEU: 0.00, METEOR: 0.39\n"
          ]
        },
        {
          "output_type": "stream",
          "name": "stderr",
          "text": [
            "/usr/local/lib/python3.11/dist-packages/nltk/translate/bleu_score.py:577: UserWarning: \n",
            "The hypothesis contains 0 counts of 2-gram overlaps.\n",
            "Therefore the BLEU score evaluates to 0, independently of\n",
            "how many N-gram overlaps of lower order it contains.\n",
            "Consider using lower n-gram order or use SmoothingFunction()\n",
            "  warnings.warn(_msg)\n"
          ]
        },
        {
          "output_type": "stream",
          "name": "stdout",
          "text": [
            "\n",
            "Urdu: ہم کل بازار جائیں گے\n",
            "Expected: We will go to the market tomorrow\n",
            "Predicted: it is a beautiful day\n",
            "BLEU: 0.00, METEOR: 0.00\n",
            "\n",
            "Urdu: تم کہاں رہتے ہو؟\n",
            "Expected: Where do you live?\n",
            "Predicted: it is raining outside\n",
            "BLEU: 0.00, METEOR: 0.00\n",
            "\n",
            "Urdu: میرا نام ماہ نور ہے\n",
            "Expected: My name is Mahnoor\n",
            "Predicted: we will go to the market tomorrow\n",
            "BLEU: 0.00, METEOR: 0.00\n",
            "\n",
            "Urdu: آپ کا شکریہ\n",
            "Expected: Thank you\n",
            "Predicted: thank you\n",
            "BLEU: 0.00, METEOR: 0.94\n",
            "\n",
            "Urdu: دروازہ بند کر دو\n",
            "Expected: Close the door\n",
            "Predicted: where do you live?\n",
            "BLEU: 0.00, METEOR: 0.00\n",
            "\n",
            "Urdu: مجھے مدد کی ضرورت ہے\n",
            "Expected: I need help\n",
            "Predicted: i need help\n",
            "BLEU: 0.00, METEOR: 0.98\n",
            "\n",
            "Urdu: کیا تم نے کھانا کھایا؟\n",
            "Expected: Did you eat food?\n",
            "Predicted: thank you\n",
            "BLEU: 0.00, METEOR: 0.13\n",
            "\n",
            "Urdu: میں نے فلم دیکھی\n",
            "Expected: I watched a movie\n",
            "Predicted: i am tired\n",
            "BLEU: 0.00, METEOR: 0.13\n",
            "\n",
            "Urdu: باہر بارش ہو رہی ہے\n",
            "Expected: It is raining outside\n",
            "Predicted: it is raining outside\n",
            "BLEU: 1.00, METEOR: 0.99\n",
            "\n",
            "Urdu: میں تھک گیا ہوں\n",
            "Expected: I am tired\n",
            "Predicted: i am tired\n",
            "BLEU: 0.00, METEOR: 0.98\n",
            "\n",
            "Urdu: وہ بہت ذہین ہے\n",
            "Expected: She is very intelligent\n",
            "Predicted: where do you live?\n",
            "BLEU: 0.00, METEOR: 0.00\n",
            "\n",
            "Urdu: ہم سب دوست ہیں\n",
            "Expected: We are all friends\n",
            "Predicted: we are all friends\n",
            "BLEU: 1.00, METEOR: 0.99\n",
            "\n",
            "Urdu: تمہاری شال بہت خوبصورت ہے\n",
            "Expected: Your shawl is very beautiful\n",
            "Predicted: we are all friends\n",
            "BLEU: 0.00, METEOR: 0.00\n",
            "\n",
            "Urdu: میرے پاس ایک کتا ہے\n",
            "Expected: I have a dog\n",
            "Predicted: i need help\n",
            "BLEU: 0.00, METEOR: 0.13\n",
            "\n",
            "Average BLEU: 0.10, Average METEOR: 0.31\n",
            "\n",
            "Test Urdu → English:\n",
            "آپ کا شکریہ => thank you\n",
            "میں اسکول جا رہا ہوں => i am tired\n"
          ]
        },
        {
          "output_type": "stream",
          "name": "stderr",
          "text": [
            "/usr/local/lib/python3.11/dist-packages/torch/nn/modules/transformer.py:385: UserWarning: enable_nested_tensor is True, but self.use_nested_tensor is False because encoder_layer.self_attn.batch_first was not True(use batch_first for better inference performance)\n",
            "  warnings.warn(\n"
          ]
        },
        {
          "output_type": "stream",
          "name": "stdout",
          "text": [
            "Epoch 0 Loss: 85.1578\n",
            "Epoch 20 Loss: 9.0612\n",
            "Epoch 40 Loss: 7.0312\n",
            "\n",
            "Test English → Urdu:\n",
            "Thank you => آپ کا شکریہ\n",
            "How are you => کیا آپ ٹھیک\n"
          ]
        }
      ]
    },
    {
      "cell_type": "code",
      "source": [
        "def test_custom_input(src_sentence, expected_tgt_sentence,\n",
        "                      model, src_vocab, tgt_vocab, inv_tgt_vocab,\n",
        "                      src_lang=\"Urdu\", tgt_lang=\"English\"):\n",
        "    # Generate translation\n",
        "    prediction = translate(model, src_sentence, src_vocab, tgt_vocab, inv_tgt_vocab)\n",
        "\n",
        "    # Tokenize\n",
        "    ref = tokenize(expected_tgt_sentence)\n",
        "    hyp = tokenize(prediction)\n",
        "\n",
        "    # Evaluation\n",
        "    bleu = sentence_bleu([ref], hyp)\n",
        "    meteor = meteor_score([ref], hyp)\n",
        "\n",
        "    print(f\"\\n🔤 Input ({src_lang}): {src_sentence}\")\n",
        "    print(f\"🎯 Expected ({tgt_lang}): {expected_tgt_sentence}\")\n",
        "    print(f\"🤖 Predicted ({tgt_lang}): {prediction}\")\n",
        "    print(f\"📊 BLEU Score: {bleu:.2f}\")\n",
        "    print(f\"📊 METEOR Score: {meteor:.2f}\")\n"
      ],
      "metadata": {
        "id": "yRqlHJ6Xpc_L"
      },
      "execution_count": 9,
      "outputs": []
    },
    {
      "cell_type": "markdown",
      "source": [
        "9. Custom Input Testing\n",
        "- Lets you input your own Urdu or English sentence, get the model's prediction, and evaluate it with BLEU and METEOR.\n",
        "- Results are stored in a CSV file."
      ],
      "metadata": {
        "id": "IXcJqIOr7Azi"
      }
    },
    {
      "cell_type": "code",
      "source": [
        "# Urdu → English\n",
        "test_custom_input(\n",
        "    src_sentence=\"میں ماہ نور ہوں\",\n",
        "    expected_tgt_sentence=\"I am Mahnoor\",\n",
        "    model=model_ur_en,\n",
        "    src_vocab=ur_vocab,\n",
        "    tgt_vocab=en_vocab,\n",
        "    inv_tgt_vocab=inv_en_vocab,\n",
        "    src_lang=\"Urdu\",\n",
        "    tgt_lang=\"English\"\n",
        ")"
      ],
      "metadata": {
        "colab": {
          "base_uri": "https://localhost:8080/"
        },
        "id": "GDAxn21ypr7Q",
        "outputId": "81bc960d-a364-49bd-bd39-d5c40271421d"
      },
      "execution_count": 10,
      "outputs": [
        {
          "output_type": "stream",
          "name": "stdout",
          "text": [
            "\n",
            "🔤 Input (Urdu): میں ماہ نور ہوں\n",
            "🎯 Expected (English): I am Mahnoor\n",
            "🤖 Predicted (English): i am tired\n",
            "📊 BLEU Score: 0.00\n",
            "📊 METEOR Score: 0.62\n"
          ]
        }
      ]
    },
    {
      "cell_type": "code",
      "source": [
        "# English → Urdu\n",
        "test_custom_input(\n",
        "    src_sentence=\"It is a beautiful book\",\n",
        "    expected_tgt_sentence=\"یہ ایک خوبصورت کتاب ہے\",\n",
        "    model=model_en_ur,\n",
        "    src_vocab=en_vocab,\n",
        "    tgt_vocab=ur_vocab,\n",
        "    inv_tgt_vocab=inv_ur_vocab,\n",
        "    src_lang=\"English\",\n",
        "    tgt_lang=\"Urdu\"\n",
        ")\n"
      ],
      "metadata": {
        "colab": {
          "base_uri": "https://localhost:8080/"
        },
        "id": "2KH129s_p__y",
        "outputId": "be69c1eb-741d-4838-e717-c9eba7bb5451"
      },
      "execution_count": 11,
      "outputs": [
        {
          "output_type": "stream",
          "name": "stdout",
          "text": [
            "\n",
            "🔤 Input (English): It is a beautiful book\n",
            "🎯 Expected (Urdu): یہ ایک خوبصورت کتاب ہے\n",
            "🤖 Predicted (Urdu): یہ ایک خوبصورت دن ہے\n",
            "📊 BLEU Score: 0.00\n",
            "📊 METEOR Score: 0.75\n"
          ]
        }
      ]
    },
    {
      "cell_type": "markdown",
      "source": [],
      "metadata": {
        "id": "MHKmjLoonpYp"
      }
    },
    {
      "cell_type": "code",
      "source": [
        "pip install matplotlib pandas"
      ],
      "metadata": {
        "colab": {
          "base_uri": "https://localhost:8080/"
        },
        "id": "CRy9iQ9irV4R",
        "outputId": "b7ea5ff1-bf36-4822-f28d-9a8c2b996f76"
      },
      "execution_count": 12,
      "outputs": [
        {
          "output_type": "stream",
          "name": "stdout",
          "text": [
            "Requirement already satisfied: matplotlib in /usr/local/lib/python3.11/dist-packages (3.10.0)\n",
            "Requirement already satisfied: pandas in /usr/local/lib/python3.11/dist-packages (2.2.2)\n",
            "Requirement already satisfied: contourpy>=1.0.1 in /usr/local/lib/python3.11/dist-packages (from matplotlib) (1.3.2)\n",
            "Requirement already satisfied: cycler>=0.10 in /usr/local/lib/python3.11/dist-packages (from matplotlib) (0.12.1)\n",
            "Requirement already satisfied: fonttools>=4.22.0 in /usr/local/lib/python3.11/dist-packages (from matplotlib) (4.58.0)\n",
            "Requirement already satisfied: kiwisolver>=1.3.1 in /usr/local/lib/python3.11/dist-packages (from matplotlib) (1.4.8)\n",
            "Requirement already satisfied: numpy>=1.23 in /usr/local/lib/python3.11/dist-packages (from matplotlib) (2.0.2)\n",
            "Requirement already satisfied: packaging>=20.0 in /usr/local/lib/python3.11/dist-packages (from matplotlib) (24.2)\n",
            "Requirement already satisfied: pillow>=8 in /usr/local/lib/python3.11/dist-packages (from matplotlib) (11.2.1)\n",
            "Requirement already satisfied: pyparsing>=2.3.1 in /usr/local/lib/python3.11/dist-packages (from matplotlib) (3.2.3)\n",
            "Requirement already satisfied: python-dateutil>=2.7 in /usr/local/lib/python3.11/dist-packages (from matplotlib) (2.9.0.post0)\n",
            "Requirement already satisfied: pytz>=2020.1 in /usr/local/lib/python3.11/dist-packages (from pandas) (2025.2)\n",
            "Requirement already satisfied: tzdata>=2022.7 in /usr/local/lib/python3.11/dist-packages (from pandas) (2025.2)\n",
            "Requirement already satisfied: six>=1.5 in /usr/local/lib/python3.11/dist-packages (from python-dateutil>=2.7->matplotlib) (1.17.0)\n"
          ]
        }
      ]
    },
    {
      "cell_type": "markdown",
      "source": [
        "10. Plotting Evaluation\n",
        "- After testing several custom inputs, we visualize how good or bad the predictions are using matplotlib."
      ],
      "metadata": {
        "id": "T5w8y0Q564Vw"
      }
    },
    {
      "cell_type": "code",
      "source": [
        "import pandas as pd\n",
        "import matplotlib.pyplot as plt\n",
        "\n",
        "# Initialize results list\n",
        "evaluation_log = []\n",
        "\n",
        "def test_custom_input(src_sentence, expected_tgt_sentence,\n",
        "                      model, src_vocab, tgt_vocab, inv_tgt_vocab,\n",
        "                      src_lang=\"Urdu\", tgt_lang=\"English\",\n",
        "                      log_file=\"translation_eval_log.csv\"):\n",
        "    # Generate translation\n",
        "    prediction = translate(model, src_sentence, src_vocab, tgt_vocab, inv_tgt_vocab)\n",
        "\n",
        "    # Tokenize\n",
        "    ref = tokenize(expected_tgt_sentence)\n",
        "    hyp = tokenize(prediction)\n",
        "\n",
        "    # Evaluation\n",
        "    bleu = sentence_bleu([ref], hyp)\n",
        "    meteor = meteor_score([ref], hyp)\n",
        "\n",
        "    # Display\n",
        "    print(f\"\\n🔤 Input ({src_lang}): {src_sentence}\")\n",
        "    print(f\"🎯 Expected ({tgt_lang}): {expected_tgt_sentence}\")\n",
        "    print(f\"🤖 Predicted ({tgt_lang}): {prediction}\")\n",
        "    print(f\"📊 BLEU Score: {bleu:.2f}\")\n",
        "    print(f\"📊 METEOR Score: {meteor:.2f}\")\n",
        "\n",
        "    # Log results\n",
        "    evaluation_log.append({\n",
        "        \"Source Language\": src_lang,\n",
        "        \"Target Language\": tgt_lang,\n",
        "        \"Input Sentence\": src_sentence,\n",
        "        \"Expected Output\": expected_tgt_sentence,\n",
        "        \"Predicted Output\": prediction,\n",
        "        \"BLEU Score\": bleu,\n",
        "        \"METEOR Score\": meteor\n",
        "    })\n",
        "\n",
        "    # Save to CSV\n",
        "    df = pd.DataFrame(evaluation_log)\n",
        "    df.to_csv(log_file, index=False)\n",
        "\n",
        "# Optional: Plot scores\n",
        "def plot_evaluation_scores(log_file=\"translation_eval_log.csv\"):\n",
        "    df = pd.read_csv(log_file)\n",
        "    plt.figure(figsize=(10, 5))\n",
        "    plt.plot(df['BLEU Score'], label=\"BLEU Score\", marker='o')\n",
        "    plt.plot(df['METEOR Score'], label=\"METEOR Score\", marker='x')\n",
        "    plt.xticks(range(len(df)), df['Input Sentence'], rotation=45, ha='right')\n",
        "    plt.ylabel(\"Score\")\n",
        "    plt.title(\"Translation Evaluation Metrics\")\n",
        "    plt.legend()\n",
        "    plt.tight_layout()\n",
        "    plt.show()\n"
      ],
      "metadata": {
        "id": "zH82za7prbJA"
      },
      "execution_count": 13,
      "outputs": []
    },
    {
      "cell_type": "code",
      "source": [
        "# Test Urdu → English\n",
        "test_custom_input(\"کیا آپ ٹھیک ہیں؟\", \"Are you okay?\", model_ur_en, ur_vocab, en_vocab, inv_en_vocab)\n",
        "test_custom_input(\"ہم سب دوست ہیں\", \"We are all friends\", model_ur_en, ur_vocab, en_vocab, inv_en_vocab)\n",
        "# Test English → Urdu\n",
        "test_custom_input(\"I am eating food\", \"میں کھانا کھا رہا ہوں\", model_en_ur, en_vocab, ur_vocab, inv_ur_vocab,\n",
        "                  src_lang=\"English\", tgt_lang=\"Urdu\")\n",
        "test_custom_input(\"It is raining outside\", \"باہر بارش ہو رہی ہے\", model_en_ur, en_vocab, ur_vocab, inv_ur_vocab,\n",
        "                  src_lang=\"English\", tgt_lang=\"Urdu\")\n",
        "# Show scores across tests\n",
        "plot_evaluation_scores()"
      ],
      "metadata": {
        "colab": {
          "base_uri": "https://localhost:8080/",
          "height": 1000
        },
        "id": "d7JmGbAnrc2x",
        "outputId": "01e3ee0c-76a3-4c16-a45d-667759a50d06"
      },
      "execution_count": 15,
      "outputs": [
        {
          "output_type": "stream",
          "name": "stderr",
          "text": [
            "/usr/local/lib/python3.11/dist-packages/nltk/translate/bleu_score.py:577: UserWarning: \n",
            "The hypothesis contains 0 counts of 2-gram overlaps.\n",
            "Therefore the BLEU score evaluates to 0, independently of\n",
            "how many N-gram overlaps of lower order it contains.\n",
            "Consider using lower n-gram order or use SmoothingFunction()\n",
            "  warnings.warn(_msg)\n",
            "/usr/local/lib/python3.11/dist-packages/nltk/translate/bleu_score.py:577: UserWarning: \n",
            "The hypothesis contains 0 counts of 3-gram overlaps.\n",
            "Therefore the BLEU score evaluates to 0, independently of\n",
            "how many N-gram overlaps of lower order it contains.\n",
            "Consider using lower n-gram order or use SmoothingFunction()\n",
            "  warnings.warn(_msg)\n",
            "/usr/local/lib/python3.11/dist-packages/nltk/translate/bleu_score.py:577: UserWarning: \n",
            "The hypothesis contains 0 counts of 4-gram overlaps.\n",
            "Therefore the BLEU score evaluates to 0, independently of\n",
            "how many N-gram overlaps of lower order it contains.\n",
            "Consider using lower n-gram order or use SmoothingFunction()\n",
            "  warnings.warn(_msg)\n"
          ]
        },
        {
          "output_type": "stream",
          "name": "stdout",
          "text": [
            "\n",
            "🔤 Input (Urdu): کیا آپ ٹھیک ہیں؟\n",
            "🎯 Expected (English): Are you okay?\n",
            "🤖 Predicted (English): thank you\n",
            "📊 BLEU Score: 0.00\n",
            "📊 METEOR Score: 0.17\n",
            "\n",
            "🔤 Input (Urdu): ہم سب دوست ہیں\n",
            "🎯 Expected (English): We are all friends\n",
            "🤖 Predicted (English): we are all friends\n",
            "📊 BLEU Score: 1.00\n",
            "📊 METEOR Score: 0.99\n",
            "\n",
            "🔤 Input (English): I am eating food\n",
            "🎯 Expected (Urdu): میں کھانا کھا رہا ہوں\n",
            "🤖 Predicted (Urdu): میں تھک گیا ہوں\n",
            "📊 BLEU Score: 0.00\n",
            "📊 METEOR Score: 0.20\n",
            "\n",
            "🔤 Input (English): It is raining outside\n",
            "🎯 Expected (Urdu): باہر بارش ہو رہی ہے\n",
            "🤖 Predicted (Urdu): باہر بارش ہو رہی ہے\n",
            "📊 BLEU Score: 1.00\n",
            "📊 METEOR Score: 1.00\n"
          ]
        },
        {
          "output_type": "stream",
          "name": "stderr",
          "text": [
            "<ipython-input-13-2ebfaeb348d1>:54: UserWarning: Glyph 1729 (\\N{ARABIC LETTER HEH GOAL}) missing from font(s) DejaVu Sans.\n",
            "  plt.tight_layout()\n",
            "<ipython-input-13-2ebfaeb348d1>:54: UserWarning: Matplotlib currently does not support Arabic natively.\n",
            "  plt.tight_layout()\n",
            "/usr/local/lib/python3.11/dist-packages/IPython/core/pylabtools.py:151: UserWarning: Glyph 1729 (\\N{ARABIC LETTER HEH GOAL}) missing from font(s) DejaVu Sans.\n",
            "  fig.canvas.print_figure(bytes_io, **kw)\n",
            "/usr/local/lib/python3.11/dist-packages/IPython/core/pylabtools.py:151: UserWarning: Matplotlib currently does not support Arabic natively.\n",
            "  fig.canvas.print_figure(bytes_io, **kw)\n"
          ]
        },
        {
          "output_type": "display_data",
          "data": {
            "text/plain": [
              "<Figure size 1000x500 with 1 Axes>"
            ],
            "image/png": "[encoded data removed]"
          },
          "metadata": {}
        }
      ]
    }
  ]
}